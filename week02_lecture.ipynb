{
 "cells": [
  {
   "cell_type": "markdown",
   "source": [
    "# Week 2 session - Review: Python basics"
   ],
   "metadata": {
    "slideshow": {
     "slide_type": "slide"
    }
   }
  },
  {
   "cell_type": "markdown",
   "source": [
    "## Variable assignment\n",
    "\n",
    "What will be the output?"
   ],
   "metadata": {
    "slideshow": {
     "slide_type": "slide"
    }
   }
  },
  {
   "cell_type": "code",
   "execution_count": 5,
   "source": [
    "a = 4*2\r\n",
    "b = a\r\n",
    "a += 2\r\n",
    "\r\n",
    "print(a, b)\r\n",
    "print(f'{a},{b}')\r\n",
    "print('{},{}'.format(a,b))\r\n",
    "print('%d,%d'%(a,b))"
   ],
   "outputs": [
    {
     "output_type": "stream",
     "name": "stdout",
     "text": [
      "10 8\n",
      "10,8\n",
      "10,8\n",
      "10,8\n"
     ]
    }
   ],
   "metadata": {}
  },
  {
   "cell_type": "markdown",
   "source": [
    "## Strings\n",
    "\n",
    "What will be the output?"
   ],
   "metadata": {
    "slideshow": {
     "slide_type": "slide"
    }
   }
  },
  {
   "cell_type": "code",
   "execution_count": 1,
   "source": [
    "name_1 = 'Maariya'\r\n",
    "name_2 = 'Tommy'\r\n",
    "name_3 = 'Jia'\r\n",
    "\r\n",
    "print(max(name_1, name_2, name_3))"
   ],
   "outputs": [
    {
     "output_type": "stream",
     "name": "stdout",
     "text": [
      "Tommy\n"
     ]
    }
   ],
   "metadata": {}
  },
  {
   "cell_type": "markdown",
   "source": [
    "## Formatted strings (f-strings)\n",
    "\n",
    "[Documentation on f-strings](https://docs.python.org/3/tutorial/inputoutput.html#formatted-string-literals)\n",
    "\n",
    "`Maariya's flatmates are Tommy and Jia.`\n",
    "\n",
    "`Jia's room is the largest.`"
   ],
   "metadata": {
    "slideshow": {
     "slide_type": "slide"
    }
   }
  },
  {
   "cell_type": "code",
   "execution_count": null,
   "source": [],
   "outputs": [],
   "metadata": {}
  }
 ],
 "metadata": {
  "kernelspec": {
   "name": "python3",
   "display_name": "Python 3.8.8 64-bit ('base': conda)"
  },
  "language_info": {
   "codemirror_mode": {
    "name": "ipython",
    "version": 3
   },
   "file_extension": ".py",
   "mimetype": "text/x-python",
   "name": "python",
   "nbconvert_exporter": "python",
   "pygments_lexer": "ipython3",
   "version": "3.8.8"
  },
  "interpreter": {
   "hash": "9b15885c5245b76b653b3acdbfd2093328fe93dd4404c6b322df2cd3cb0533fd"
  }
 },
 "nbformat": 4,
 "nbformat_minor": 4
}